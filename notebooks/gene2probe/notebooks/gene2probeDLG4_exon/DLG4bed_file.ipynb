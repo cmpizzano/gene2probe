{
 "cells": [
  {
   "cell_type": "code",
   "execution_count": 1,
   "id": "c4974110-745e-473a-8216-2dc029687f7a",
   "metadata": {},
   "outputs": [],
   "source": [
    "import pybedtools\n",
    "import pandas as pd"
   ]
  },
  {
   "cell_type": "code",
   "execution_count": 2,
   "id": "d288a806-66c9-4e95-bc2e-23e39ffc863b",
   "metadata": {},
   "outputs": [],
   "source": [
    "# Load the probe file\n",
    "probe_input = \"kmers_selected_probes.csv\"\n",
    "probe_df = pd.read_csv(probe_input)"
   ]
  },
  {
   "cell_type": "code",
   "execution_count": 3,
   "id": "6b892bc1-85d9-4e45-9ddc-967a72ea79c7",
   "metadata": {},
   "outputs": [],
   "source": [
    "# Rearrange and rename columns to match BED format\n",
    "probe_bed_df = probe_df[[\"seqname\", \"start\", \"end\", \"gene_ID\", \"strand\"]]\n",
    "probe_bed_df.columns = [\"chrom\", \"chromstart\", \"chromend\", \"name\", \"strand\"]"
   ]
  },
  {
   "cell_type": "code",
   "execution_count": 4,
   "id": "7b894454-6169-4873-a54e-cda3965b12cb",
   "metadata": {},
   "outputs": [],
   "source": [
    "probe_output = \"probes_DLG4.bed\"\n",
    "probe_bed_df.to_csv(probe_output, sep=\"\\t\", index=False, header=False)"
   ]
  },
  {
   "cell_type": "code",
   "execution_count": 5,
   "id": "127abf13-4983-44fb-8b1d-299a34238ec1",
   "metadata": {},
   "outputs": [
    {
     "name": "stdout",
     "output_type": "stream",
     "text": [
      "  probe_chr  probe_start  probe_end probe_info probe_strand canonical_chr  \\\n",
      "0     chr17      7203470    7203590       DLG4            -         chr17   \n",
      "1     chr17      7189800    7189920       DLG4            -         chr17   \n",
      "2     chr17      7187649    7187769       DLG4            -         chr17   \n",
      "3     chr17      7204275    7204395       DLG4            -         chr17   \n",
      "4     chr17      7202755    7202875       DLG4            -         chr17   \n",
      "\n",
      "   canonical_start  canonical_end canonical_info canonical_strand  overlap  \n",
      "0          7187187        7217627           DLG4                -      120  \n",
      "1          7187187        7217627           DLG4                -      120  \n",
      "2          7187187        7217627           DLG4                -      120  \n",
      "3          7187187        7217627           DLG4                -      120  \n",
      "4          7187187        7217627           DLG4                -      120  \n",
      "\n",
      "Coverage summary by probe:\n",
      "probe_info\n",
      "DLG4    1680\n",
      "Name: overlap, dtype: int64\n"
     ]
    }
   ],
   "source": [
    "import subprocess\n",
    "import pandas as pd\n",
    "\n",
    "# Paths to your BED files\n",
    "probe_bed = \"probes_DLG4.bed\"  # Your probes file\n",
    "canonical_bed = \"canonical_transcripts_cleaned.bed\"  # File containing canonical transcript intervals\n",
    "output_bed = \"annotated_probes.bed\"  # Output file to store annotated results\n",
    "\n",
    "# BEDTools intersect command\n",
    "cmd = [\n",
    "    \"bedtools\", \"intersect\",\n",
    "    \"-a\", probe_bed,\n",
    "    \"-b\", canonical_bed,\n",
    "    \"-wao\"\n",
    "]\n",
    "\n",
    "# Run BEDTools\n",
    "with open(output_bed, \"w\") as output:\n",
    "    subprocess.run(cmd, stdout=output)\n",
    "\n",
    "# Load the results for analysis\n",
    "df = pd.read_csv(output_bed, sep=\"\\t\", header=None)\n",
    "\n",
    "# Assign column names including the strand\n",
    "df.columns = [\n",
    "    \"probe_chr\", \"probe_start\", \"probe_end\", \"probe_info\", \"probe_strand\",\n",
    "    \"canonical_chr\", \"canonical_start\", \"canonical_end\", \"canonical_info\", \"canonical_strand\",\n",
    "    \"overlap\"\n",
    "]\n",
    "\n",
    "# Quantify coverage\n",
    "coverage_summary = df.groupby(\"probe_info\")[\"overlap\"].sum()\n",
    "\n",
    "# Display annotated probes with strand information\n",
    "print(df.head())\n",
    "print(\"\\nCoverage summary by probe:\")\n",
    "print(coverage_summary)"
   ]
  },
  {
   "cell_type": "code",
   "execution_count": null,
   "id": "24cbefd2-24d8-49c4-8ee3-36567c66f252",
   "metadata": {},
   "outputs": [],
   "source": []
  }
 ],
 "metadata": {
  "kernelspec": {
   "display_name": "Python 3 (ipykernel)",
   "language": "python",
   "name": "python3"
  },
  "language_info": {
   "codemirror_mode": {
    "name": "ipython",
    "version": 3
   },
   "file_extension": ".py",
   "mimetype": "text/x-python",
   "name": "python",
   "nbconvert_exporter": "python",
   "pygments_lexer": "ipython3",
   "version": "3.12.2"
  }
 },
 "nbformat": 4,
 "nbformat_minor": 5
}
