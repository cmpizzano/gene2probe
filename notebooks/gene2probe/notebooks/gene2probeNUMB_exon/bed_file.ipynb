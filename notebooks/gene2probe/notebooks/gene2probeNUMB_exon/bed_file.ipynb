{
 "cells": [
  {
   "cell_type": "code",
   "execution_count": 1,
   "id": "a4e7a0c8-99ff-491b-911d-1546fdbd2477",
   "metadata": {},
   "outputs": [],
   "source": [
    "import pandas as pd"
   ]
  },
  {
   "cell_type": "code",
   "execution_count": 6,
   "id": "aa3b0bb4-6736-4767-b0ac-4348f73a6f3e",
   "metadata": {},
   "outputs": [],
   "source": [
    "# Load the canonical transcripts file \n",
    "input_file = \"2024-08-12_grch38_105_gencode-canonical-protein-coding-transcripts.tsv\"\n",
    "canonical_df = pd.read_csv(input_file, sep=\"\\t\")"
   ]
  },
  {
   "cell_type": "code",
   "execution_count": 7,
   "id": "527e0035-5df1-4ed8-aba7-ac4aa7a0be01",
   "metadata": {},
   "outputs": [],
   "source": [
    "# Rearrange and rename columns to match BED format\n",
    "bed_df = canonical_df[[\"chrom\", \"start\", \"end\", \"gene_name\", \"strand\"]]\n",
    "bed_df.columns = [\"chrom\", \"chromstart\", \"chromend\", \"name\", \"strand\"]"
   ]
  },
  {
   "cell_type": "code",
   "execution_count": 9,
   "id": "dd3396f8-5547-44a0-94e3-e283814f9ec9",
   "metadata": {},
   "outputs": [],
   "source": [
    "# Replace strand values\n",
    "bed_df.loc[:, \"strand\"] = bed_df[\"strand\"].replace({1: \"+\", -1: \"-\"})"
   ]
  },
  {
   "cell_type": "code",
   "execution_count": 10,
   "id": "ce4b7d5f-d3ba-4c38-bf6a-78658b62435d",
   "metadata": {},
   "outputs": [],
   "source": [
    "# Save as a BED file\n",
    "output_file = \"canonical_transcripts.bed\"\n",
    "bed_df.to_csv(output_file, sep=\"\\t\", index=False, header=False)"
   ]
  },
  {
   "cell_type": "code",
   "execution_count": 2,
   "id": "5c631e36-58b0-4c55-921f-d6d5ebb2f34f",
   "metadata": {},
   "outputs": [],
   "source": [
    "import pybedtools"
   ]
  },
  {
   "cell_type": "code",
   "execution_count": 5,
   "id": "e972209b-9f30-4e20-b3e1-8567bce59b66",
   "metadata": {},
   "outputs": [],
   "source": [
    "# Load the probe file\n",
    "probe_input = \"kmers_selected_probes.csv\"\n",
    "probe_df = pd.read_csv(probe_input)"
   ]
  },
  {
   "cell_type": "code",
   "execution_count": 6,
   "id": "6d9b2ac9-4f4b-4938-b082-34fce7f63c10",
   "metadata": {},
   "outputs": [],
   "source": [
    "# Rearrange and rename columns to match BED format\n",
    "probe_bed_df = probe_df[[\"seqname\", \"start\", \"end\", \"gene_ID\", \"strand\"]]\n",
    "probe_bed_df.columns = [\"chrom\", \"chromstart\", \"chromend\", \"name\", \"strand\"]"
   ]
  },
  {
   "cell_type": "code",
   "execution_count": 7,
   "id": "d99f3112-5989-4c66-82fe-0691af799994",
   "metadata": {},
   "outputs": [],
   "source": [
    "probe_output = \"probes_NUMB.bed\"\n",
    "probe_bed_df.to_csv(probe_output, sep=\"\\t\", index=False, header=False)"
   ]
  },
  {
   "cell_type": "markdown",
   "id": "1156a20f-a251-4958-8151-8f774f468565",
   "metadata": {},
   "source": [
    "fix"
   ]
  },
  {
   "cell_type": "code",
   "execution_count": 4,
   "id": "bcb4d676-db6b-4ffe-a624-f71824ae3d94",
   "metadata": {},
   "outputs": [],
   "source": [
    "canonical_bed = \"canonical_transcripts.bed\"\n",
    "fix_bed_df = pd.read_csv(canonical_bed, sep=\"\\t\", header=None, on_bad_lines='skip')"
   ]
  },
  {
   "cell_type": "code",
   "execution_count": 6,
   "id": "a6cebd58-539e-46f7-b8de-167deca218b3",
   "metadata": {},
   "outputs": [
    {
     "name": "stdout",
     "output_type": "stream",
     "text": [
      "Malformed rows:\n",
      "       0            1            2             3  4\n",
      "16     1          NaN          NaN           NaN  -\n",
      "59     1          NaN          NaN  MICOS10-NBL1  +\n",
      "156    1   38864529.0   38881602.0           NaN  -\n",
      "163    1          NaN          NaN           NaN  +\n",
      "177    1          NaN          NaN           NaN  -\n",
      "...   ..          ...          ...           ... ..\n",
      "19603  X   49071470.0   49079887.0           NaN  -\n",
      "19630  X   23783278.0   23783367.0           NaN  +\n",
      "19638  X  102712495.0  102753530.0           NaN  +\n",
      "19649  X  119072960.0  119076373.0           NaN  +\n",
      "19820  X  140091678.0  140092911.0           NaN  +\n",
      "\n",
      "[641 rows x 5 columns]\n"
     ]
    }
   ],
   "source": [
    "# Find rows that do not have exactly 5 columns\n",
    "expected_columns = 5\n",
    "malformed_rows = fix_bed_df[fix_bed_df.isnull().any(axis=1) | (fix_bed_df.shape[1] != expected_columns)]\n",
    "\n",
    "# Display malformed rows\n",
    "print(\"Malformed rows:\")\n",
    "print(malformed_rows)"
   ]
  },
  {
   "cell_type": "code",
   "execution_count": 8,
   "id": "eb658ecd-21e0-482b-931f-1ec225a459d4",
   "metadata": {},
   "outputs": [],
   "source": [
    "# Keep only rows with exactly 5 columns\n",
    "fix_bed_df = fix_bed_df[fix_bed_df.apply(lambda row: len(row.dropna()), axis=1) == 5]\n"
   ]
  },
  {
   "cell_type": "code",
   "execution_count": 9,
   "id": "94a1d64d-a9f7-4a0c-9011-69abe54af12f",
   "metadata": {},
   "outputs": [],
   "source": [
    "fix_bed_df.to_csv(\"canonical_transcripts_fixed.bed\", sep=\"\\t\", index=False, header=False)"
   ]
  },
  {
   "cell_type": "markdown",
   "id": "f02d2789-2f82-495e-9741-887c9f70cc1b",
   "metadata": {},
   "source": [
    "fix again"
   ]
  },
  {
   "cell_type": "code",
   "execution_count": 13,
   "id": "872d2d44-56eb-4eea-9a6f-d83e6b7d7a2d",
   "metadata": {},
   "outputs": [],
   "source": [
    "\n",
    "# Load the canonical transcript BED file\n",
    "canonical_bed = \"canonical_transcripts_fixed.bed\"\n",
    "bed_df = pd.read_csv(canonical_bed, sep=\"\\t\", header=None)\n",
    "\n",
    "# Update the chromosome column (column 0) to prepend \"chr\"\n",
    "bed_df[0] = bed_df[0].apply(lambda x: f\"chr{x}\" if not str(x).startswith(\"chr\") else x)\n",
    "\n",
    "# Save the updated file\n",
    "output_file = \"canonical_transcripts_chr_fixed.bed\"\n",
    "bed_df.to_csv(output_file, sep=\"\\t\", index=False, header=False)\n"
   ]
  },
  {
   "cell_type": "markdown",
   "id": "b8bcc367-8cb9-4d27-90c5-b4cf39acfb99",
   "metadata": {},
   "source": [
    "fix more"
   ]
  },
  {
   "cell_type": "code",
   "execution_count": 25,
   "id": "4806b467-a72b-470a-a373-c02a6793e693",
   "metadata": {},
   "outputs": [
    {
     "name": "stdout",
     "output_type": "stream",
     "text": [
      "<class 'pandas.core.frame.DataFrame'>\n",
      "RangeIndex: 19311 entries, 0 to 19310\n",
      "Data columns (total 5 columns):\n",
      " #   Column  Non-Null Count  Dtype  \n",
      "---  ------  --------------  -----  \n",
      " 0   0       19311 non-null  object \n",
      " 1   1       19311 non-null  float64\n",
      " 2   2       19311 non-null  float64\n",
      " 3   3       19311 non-null  object \n",
      " 4   4       19311 non-null  object \n",
      "dtypes: float64(2), object(3)\n",
      "memory usage: 754.5+ KB\n",
      "None\n"
     ]
    }
   ],
   "source": [
    "\n",
    "\n",
    "# Load and inspect probes file\n",
    "#probes_df = pd.read_csv(\"probes_NUMB.bed\", sep=\"\\t\", header=None)\n",
    "#print(probes_df.info())\n",
    "\n",
    "# Load and inspect canonical transcripts file\n",
    "canonical_df = pd.read_csv(\"canonical_transcripts_chr_fixed.bed\", sep=\"\\t\", header=None)\n",
    "print(canonical_df.info())\n",
    "\n",
    "# Convert coordinates to integers\n",
    "canonical_df[1] = canonical_df[1].astype(int)\n",
    "canonical_df[2] = canonical_df[2].astype(int)\n",
    "\n",
    "canonical_df.to_csv(\"canonical_transcripts_cleaned.bed\", sep=\"\\t\", index=False, header=False)\n"
   ]
  },
  {
   "cell_type": "code",
   "execution_count": 26,
   "id": "1e862ced-7100-4969-b57d-b66bd51a9def",
   "metadata": {},
   "outputs": [
    {
     "name": "stdout",
     "output_type": "stream",
     "text": [
      "<class 'pandas.core.frame.DataFrame'>\n",
      "RangeIndex: 19311 entries, 0 to 19310\n",
      "Data columns (total 5 columns):\n",
      " #   Column  Non-Null Count  Dtype \n",
      "---  ------  --------------  ----- \n",
      " 0   0       19311 non-null  object\n",
      " 1   1       19311 non-null  int64 \n",
      " 2   2       19311 non-null  int64 \n",
      " 3   3       19311 non-null  object\n",
      " 4   4       19311 non-null  object\n",
      "dtypes: int64(2), object(3)\n",
      "memory usage: 754.5+ KB\n",
      "None\n"
     ]
    }
   ],
   "source": [
    "canonical_df = pd.read_csv(\"canonical_transcripts_cleaned.bed\", sep=\"\\t\", header=None)\n",
    "print(canonical_df.info())"
   ]
  },
  {
   "cell_type": "code",
   "execution_count": null,
   "id": "6a30eb1b-cb94-4e38-a65d-09fa1e52d5ad",
   "metadata": {},
   "outputs": [],
   "source": []
  },
  {
   "cell_type": "markdown",
   "id": "de565291-5944-42a2-8183-378bf89f309a",
   "metadata": {},
   "source": [
    "intersect"
   ]
  },
  {
   "cell_type": "code",
   "execution_count": 27,
   "id": "e307fe62-2d1a-40f2-9fcc-5f77bd8a6558",
   "metadata": {},
   "outputs": [],
   "source": [
    "# Define paths to the BED files\n",
    "probe_bed = \"probes_NUMB.bed\"\n",
    "canonical_bed = \"canonical_transcripts_cleaned.bed\""
   ]
  },
  {
   "cell_type": "code",
   "execution_count": 28,
   "id": "dde6ce4f-5ad5-43ab-a898-f67bc51a50a2",
   "metadata": {},
   "outputs": [],
   "source": [
    "# Create BedTool objects\n",
    "probes = pybedtools.BedTool(probe_bed)\n",
    "canonical = pybedtools.BedTool(canonical_bed)\n"
   ]
  },
  {
   "cell_type": "code",
   "execution_count": 30,
   "id": "8f7faa4f-9b4e-43dc-8363-6c63dbba1f15",
   "metadata": {},
   "outputs": [],
   "source": [
    "# Perform the intersection\n",
    "# The '-wao' option will keep all intervals and report overlaps\n",
    "result = probes.intersect(canonical, wao=True)"
   ]
  },
  {
   "cell_type": "code",
   "execution_count": 31,
   "id": "c5a20275-08b7-4d9d-804f-6d2f3aecb2d8",
   "metadata": {},
   "outputs": [
    {
     "data": {
      "text/plain": [
       "<BedTool(annotated_probes_with_overlap.bed)>"
      ]
     },
     "execution_count": 31,
     "metadata": {},
     "output_type": "execute_result"
    }
   ],
   "source": [
    "output_file = \"annotated_probes_with_overlap.bed\"\n",
    "result.saveas(output_file)"
   ]
  },
  {
   "cell_type": "markdown",
   "id": "0a3864a9-281e-4c07-81a8-72c7c0d59489",
   "metadata": {},
   "source": [
    "trying another way..."
   ]
  },
  {
   "cell_type": "code",
   "execution_count": 32,
   "id": "f88b9f71-f3e5-41e5-a4bc-55d988ea9290",
   "metadata": {},
   "outputs": [
    {
     "name": "stdout",
     "output_type": "stream",
     "text": [
      "  probe_chr  probe_start  probe_end probe_info probe_strand canonical_chr  \\\n",
      "0     chr14     73462429   73462549       NUMB            -             .   \n",
      "1     chr14     73284190   73284310       NUMB            -         chr14   \n",
      "2     chr14     73292734   73292854       NUMB            -         chr14   \n",
      "3     chr14     73355634   73355754       NUMB            -         chr14   \n",
      "4     chr14     73409941   73410061       NUMB            -         chr14   \n",
      "\n",
      "   canonical_start  canonical_end canonical_info canonical_strand  overlap  \n",
      "0               -1             -1              .                .        0  \n",
      "1         73275216       73458546           NUMB                -      120  \n",
      "2         73275216       73458546           NUMB                -      120  \n",
      "3         73275216       73458546           NUMB                -      120  \n",
      "4         73275216       73458546           NUMB                -      120  \n",
      "\n",
      "Coverage summary by probe:\n",
      "probe_info\n",
      "NUMB    1974\n",
      "Name: overlap, dtype: int64\n"
     ]
    }
   ],
   "source": [
    "import subprocess\n",
    "import pandas as pd\n",
    "\n",
    "# Paths to your BED files\n",
    "probe_bed = \"probes_NUMB.bed\"  # Your probes file\n",
    "canonical_bed = \"canonical_transcripts_cleaned.bed\"  # File containing canonical transcript intervals\n",
    "output_bed = \"annotated_probes.bed\"  # Output file to store annotated results\n",
    "\n",
    "# BEDTools intersect command\n",
    "cmd = [\n",
    "    \"bedtools\", \"intersect\",\n",
    "    \"-a\", probe_bed,\n",
    "    \"-b\", canonical_bed,\n",
    "    \"-wao\"\n",
    "]\n",
    "\n",
    "# Run BEDTools\n",
    "with open(output_bed, \"w\") as output:\n",
    "    subprocess.run(cmd, stdout=output)\n",
    "\n",
    "# Load the results for analysis\n",
    "df = pd.read_csv(output_bed, sep=\"\\t\", header=None)\n",
    "\n",
    "# Assign column names including the strand\n",
    "df.columns = [\n",
    "    \"probe_chr\", \"probe_start\", \"probe_end\", \"probe_info\", \"probe_strand\",\n",
    "    \"canonical_chr\", \"canonical_start\", \"canonical_end\", \"canonical_info\", \"canonical_strand\",\n",
    "    \"overlap\"\n",
    "]\n",
    "\n",
    "# Quantify coverage\n",
    "coverage_summary = df.groupby(\"probe_info\")[\"overlap\"].sum()\n",
    "\n",
    "# Display annotated probes with strand information\n",
    "print(df.head())\n",
    "print(\"\\nCoverage summary by probe:\")\n",
    "print(coverage_summary)\n"
   ]
  },
  {
   "cell_type": "code",
   "execution_count": null,
   "id": "f3360b0e-0c80-4926-a0da-a1496b090106",
   "metadata": {},
   "outputs": [],
   "source": []
  }
 ],
 "metadata": {
  "kernelspec": {
   "display_name": "Python 3 (ipykernel)",
   "language": "python",
   "name": "python3"
  },
  "language_info": {
   "codemirror_mode": {
    "name": "ipython",
    "version": 3
   },
   "file_extension": ".py",
   "mimetype": "text/x-python",
   "name": "python",
   "nbconvert_exporter": "python",
   "pygments_lexer": "ipython3",
   "version": "3.12.2"
  }
 },
 "nbformat": 4,
 "nbformat_minor": 5
}
