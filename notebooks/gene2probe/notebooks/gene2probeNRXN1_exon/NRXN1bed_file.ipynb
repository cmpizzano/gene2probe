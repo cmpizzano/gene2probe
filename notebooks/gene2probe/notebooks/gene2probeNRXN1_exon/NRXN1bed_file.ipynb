{
 "cells": [
  {
   "cell_type": "code",
   "execution_count": 1,
   "id": "02fd1e2f-5755-42a6-92f8-b9ffe9b22bca",
   "metadata": {},
   "outputs": [],
   "source": [
    "import pybedtools\n",
    "import pandas as pd"
   ]
  },
  {
   "cell_type": "code",
   "execution_count": 2,
   "id": "d00b9d45-a9a3-4fee-a7eb-82ce17f3833b",
   "metadata": {},
   "outputs": [],
   "source": [
    "# Load the probe file\n",
    "probe_input = \"kmers_selected_probes.csv\"\n",
    "probe_df = pd.read_csv(probe_input)"
   ]
  },
  {
   "cell_type": "code",
   "execution_count": 3,
   "id": "969ec1ba-6b35-41c1-a521-77ff80f91f1f",
   "metadata": {},
   "outputs": [],
   "source": [
    "# Rearrange and rename columns to match BED format\n",
    "probe_bed_df = probe_df[[\"seqname\", \"start\", \"end\", \"gene_ID\", \"strand\"]]\n",
    "probe_bed_df.columns = [\"chrom\", \"chromstart\", \"chromend\", \"name\", \"strand\"]"
   ]
  },
  {
   "cell_type": "code",
   "execution_count": 4,
   "id": "e4df2358-40fe-42db-b83a-23d4f1199a6a",
   "metadata": {},
   "outputs": [],
   "source": [
    "probe_output = \"probes_NRXN1.bed\"\n",
    "probe_bed_df.to_csv(probe_output, sep=\"\\t\", index=False, header=False)"
   ]
  },
  {
   "cell_type": "code",
   "execution_count": 5,
   "id": "b1348291-215a-472c-b4cb-872bc327ed5f",
   "metadata": {},
   "outputs": [
    {
     "name": "stdout",
     "output_type": "stream",
     "text": [
      "  probe_chr  probe_start  probe_end probe_info probe_strand canonical_chr  \\\n",
      "0      chr2     51027880   51028000      NRXN1            -          chr2   \n",
      "1      chr2     49922094   49922214      NRXN1            -          chr2   \n",
      "2      chr2     50538372   50538492      NRXN1            -          chr2   \n",
      "3      chr2     50552722   50552842      NRXN1            -          chr2   \n",
      "4      chr2     50053310   50053430      NRXN1            -          chr2   \n",
      "\n",
      "   canonical_start  canonical_end canonical_info canonical_strand  overlap  \n",
      "0         49918503       51032132          NRXN1                -      120  \n",
      "1         49918503       51032132          NRXN1                -      120  \n",
      "2         49918503       51032132          NRXN1                -      120  \n",
      "3         49918503       51032132          NRXN1                -      120  \n",
      "4         49918503       51032132          NRXN1                -      120  \n",
      "\n",
      "Coverage summary by probe:\n",
      "probe_info\n",
      "NRXN1    1800\n",
      "Name: overlap, dtype: int64\n"
     ]
    }
   ],
   "source": [
    "import subprocess\n",
    "import pandas as pd\n",
    "\n",
    "# Paths to your BED files\n",
    "probe_bed = \"probes_NRXN1.bed\"  # Your probes file\n",
    "canonical_bed = \"canonical_transcripts_cleaned.bed\"  # File containing canonical transcript intervals\n",
    "output_bed = \"annotated_probes.bed\"  # Output file to store annotated results\n",
    "\n",
    "# BEDTools intersect command\n",
    "cmd = [\n",
    "    \"bedtools\", \"intersect\",\n",
    "    \"-a\", probe_bed,\n",
    "    \"-b\", canonical_bed,\n",
    "    \"-wao\"\n",
    "]\n",
    "\n",
    "# Run BEDTools\n",
    "with open(output_bed, \"w\") as output:\n",
    "    subprocess.run(cmd, stdout=output)\n",
    "\n",
    "# Load the results for analysis\n",
    "df = pd.read_csv(output_bed, sep=\"\\t\", header=None)\n",
    "\n",
    "# Assign column names including the strand\n",
    "df.columns = [\n",
    "    \"probe_chr\", \"probe_start\", \"probe_end\", \"probe_info\", \"probe_strand\",\n",
    "    \"canonical_chr\", \"canonical_start\", \"canonical_end\", \"canonical_info\", \"canonical_strand\",\n",
    "    \"overlap\"\n",
    "]\n",
    "\n",
    "# Quantify coverage\n",
    "coverage_summary = df.groupby(\"probe_info\")[\"overlap\"].sum()\n",
    "\n",
    "# Display annotated probes with strand information\n",
    "print(df.head())\n",
    "print(\"\\nCoverage summary by probe:\")\n",
    "print(coverage_summary)"
   ]
  },
  {
   "cell_type": "code",
   "execution_count": null,
   "id": "81206557-ddf6-4126-a502-8d809ce29c72",
   "metadata": {},
   "outputs": [],
   "source": []
  }
 ],
 "metadata": {
  "kernelspec": {
   "display_name": "Python 3 (ipykernel)",
   "language": "python",
   "name": "python3"
  },
  "language_info": {
   "codemirror_mode": {
    "name": "ipython",
    "version": 3
   },
   "file_extension": ".py",
   "mimetype": "text/x-python",
   "name": "python",
   "nbconvert_exporter": "python",
   "pygments_lexer": "ipython3",
   "version": "3.12.2"
  }
 },
 "nbformat": 4,
 "nbformat_minor": 5
}
