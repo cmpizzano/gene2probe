{
 "cells": [
  {
   "cell_type": "code",
   "execution_count": 1,
   "id": "5c79dd0c-4175-4980-a90e-e666193c2632",
   "metadata": {},
   "outputs": [],
   "source": [
    "import pybedtools\n",
    "import pandas as pd"
   ]
  },
  {
   "cell_type": "code",
   "execution_count": 2,
   "id": "de8b0e94-8fa2-4315-8713-ab9c521f4996",
   "metadata": {},
   "outputs": [],
   "source": [
    "# Load the probe file\n",
    "probe_input = \"kmers_selected_probes.csv\"\n",
    "probe_df = pd.read_csv(probe_input)"
   ]
  },
  {
   "cell_type": "code",
   "execution_count": 3,
   "id": "5af45482-fc3c-43dc-b04f-fc5f1caf26d7",
   "metadata": {},
   "outputs": [],
   "source": [
    "# Rearrange and rename columns to match BED format\n",
    "probe_bed_df = probe_df[[\"seqname\", \"start\", \"end\", \"gene_ID\", \"strand\"]]\n",
    "probe_bed_df.columns = [\"chrom\", \"chromstart\", \"chromend\", \"name\", \"strand\"]"
   ]
  },
  {
   "cell_type": "code",
   "execution_count": 4,
   "id": "d089e13f-aaba-48a2-b0a5-fa4e246e87fb",
   "metadata": {},
   "outputs": [],
   "source": [
    "probe_output = \"probes_LRP8.bed\"\n",
    "probe_bed_df.to_csv(probe_output, sep=\"\\t\", index=False, header=False)"
   ]
  },
  {
   "cell_type": "code",
   "execution_count": 5,
   "id": "9e575d5a-b8b9-47ad-b522-5bf74b634303",
   "metadata": {},
   "outputs": [
    {
     "name": "stdout",
     "output_type": "stream",
     "text": [
      "  probe_chr  probe_start  probe_end probe_info probe_strand canonical_chr  \\\n",
      "0      chr1     53289566   53289686       LRP8            -          chr1   \n",
      "1      chr1     53264203   53264323       LRP8            -          chr1   \n",
      "2      chr1     53258327   53258447       LRP8            -          chr1   \n",
      "3      chr1     53262087   53262207       LRP8            -          chr1   \n",
      "4      chr1     53245868   53245988       LRP8            -          chr1   \n",
      "\n",
      "   canonical_start  canonical_end canonical_info canonical_strand  overlap  \n",
      "0         53242364       53328070           LRP8                -      120  \n",
      "1         53242364       53328070           LRP8                -      120  \n",
      "2         53242364       53328070           LRP8                -      120  \n",
      "3         53242364       53328070           LRP8                -      120  \n",
      "4         53242364       53328070           LRP8                -      120  \n",
      "\n",
      "Coverage summary by probe:\n",
      "probe_info\n",
      "LRP8    1800\n",
      "Name: overlap, dtype: int64\n"
     ]
    }
   ],
   "source": [
    "import subprocess\n",
    "import pandas as pd\n",
    "\n",
    "# Paths to your BED files\n",
    "probe_bed = \"probes_LRP8.bed\"  # Your probes file\n",
    "canonical_bed = \"canonical_transcripts_cleaned.bed\"  # File containing canonical transcript intervals\n",
    "output_bed = \"annotated_probes.bed\"  # Output file to store annotated results\n",
    "\n",
    "# BEDTools intersect command\n",
    "cmd = [\n",
    "    \"bedtools\", \"intersect\",\n",
    "    \"-a\", probe_bed,\n",
    "    \"-b\", canonical_bed,\n",
    "    \"-wao\"\n",
    "]\n",
    "\n",
    "# Run BEDTools\n",
    "with open(output_bed, \"w\") as output:\n",
    "    subprocess.run(cmd, stdout=output)\n",
    "\n",
    "# Load the results for analysis\n",
    "df = pd.read_csv(output_bed, sep=\"\\t\", header=None)\n",
    "\n",
    "# Assign column names including the strand\n",
    "df.columns = [\n",
    "    \"probe_chr\", \"probe_start\", \"probe_end\", \"probe_info\", \"probe_strand\",\n",
    "    \"canonical_chr\", \"canonical_start\", \"canonical_end\", \"canonical_info\", \"canonical_strand\",\n",
    "    \"overlap\"\n",
    "]\n",
    "\n",
    "# Quantify coverage\n",
    "coverage_summary = df.groupby(\"probe_info\")[\"overlap\"].sum()\n",
    "\n",
    "# Display annotated probes with strand information\n",
    "print(df.head())\n",
    "print(\"\\nCoverage summary by probe:\")\n",
    "print(coverage_summary)"
   ]
  }
 ],
 "metadata": {
  "kernelspec": {
   "display_name": "Python 3 (ipykernel)",
   "language": "python",
   "name": "python3"
  },
  "language_info": {
   "codemirror_mode": {
    "name": "ipython",
    "version": 3
   },
   "file_extension": ".py",
   "mimetype": "text/x-python",
   "name": "python",
   "nbconvert_exporter": "python",
   "pygments_lexer": "ipython3",
   "version": "3.12.2"
  }
 },
 "nbformat": 4,
 "nbformat_minor": 5
}
