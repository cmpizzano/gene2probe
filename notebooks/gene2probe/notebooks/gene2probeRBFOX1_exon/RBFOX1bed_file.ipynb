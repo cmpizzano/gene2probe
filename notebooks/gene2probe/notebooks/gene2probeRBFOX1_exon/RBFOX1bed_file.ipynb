{
 "cells": [
  {
   "cell_type": "code",
   "execution_count": 1,
   "id": "29145d8b-a84f-4c1f-a5f8-5997f0884f70",
   "metadata": {},
   "outputs": [],
   "source": [
    "import pybedtools\n",
    "import pandas as pd"
   ]
  },
  {
   "cell_type": "code",
   "execution_count": 2,
   "id": "d215f524-c902-48cd-a762-cf737e89fb4f",
   "metadata": {},
   "outputs": [],
   "source": [
    "# Load the probe file\n",
    "probe_input = \"kmers_selected_probes.csv\"\n",
    "probe_df = pd.read_csv(probe_input)"
   ]
  },
  {
   "cell_type": "code",
   "execution_count": 3,
   "id": "5d74c742-de9c-49bd-b2db-9b08c1d6d913",
   "metadata": {},
   "outputs": [],
   "source": [
    "# Rearrange and rename columns to match BED format\n",
    "probe_bed_df = probe_df[[\"seqname\", \"start\", \"end\", \"gene_ID\", \"strand\"]]\n",
    "probe_bed_df.columns = [\"chrom\", \"chromstart\", \"chromend\", \"name\", \"strand\"]"
   ]
  },
  {
   "cell_type": "code",
   "execution_count": 4,
   "id": "c4d78cf3-c9e2-4511-a7b0-84d420bec268",
   "metadata": {},
   "outputs": [],
   "source": [
    "probe_output = \"probes_RBFOX1.bed\"\n",
    "probe_bed_df.to_csv(probe_output, sep=\"\\t\", index=False, header=False)"
   ]
  },
  {
   "cell_type": "code",
   "execution_count": 5,
   "id": "b5baa0e8-8244-4e23-acb9-581eeb5ebd9d",
   "metadata": {},
   "outputs": [
    {
     "name": "stdout",
     "output_type": "stream",
     "text": [
      "  probe_chr  probe_start  probe_end probe_info probe_strand canonical_chr  \\\n",
      "0     chr16      6483321    6483441     RBFOX1            +         chr16   \n",
      "1     chr16      7518262    7518382     RBFOX1            +         chr16   \n",
      "2     chr16      7712259    7712379     RBFOX1            +         chr16   \n",
      "3     chr16      7332968    7333088     RBFOX1            +         chr16   \n",
      "4     chr16      7328707    7328827     RBFOX1            +         chr16   \n",
      "\n",
      "   canonical_start  canonical_end canonical_info canonical_strand  overlap  \n",
      "0          6019024        7713340         RBFOX1                +      120  \n",
      "1          6019024        7713340         RBFOX1                +      120  \n",
      "2          6019024        7713340         RBFOX1                +      120  \n",
      "3          6019024        7713340         RBFOX1                +      120  \n",
      "4          6019024        7713340         RBFOX1                +      120  \n",
      "\n",
      "Coverage summary by probe:\n",
      "probe_info\n",
      "RBFOX1    1680\n",
      "Name: overlap, dtype: int64\n"
     ]
    }
   ],
   "source": [
    "import subprocess\n",
    "import pandas as pd\n",
    "\n",
    "# Paths to your BED files\n",
    "probe_bed = \"probes_RBFOX1.bed\"  # Your probes file\n",
    "canonical_bed = \"canonical_transcripts_cleaned.bed\"  # File containing canonical transcript intervals\n",
    "output_bed = \"annotated_probes.bed\"  # Output file to store annotated results\n",
    "\n",
    "# BEDTools intersect command\n",
    "cmd = [\n",
    "    \"bedtools\", \"intersect\",\n",
    "    \"-a\", probe_bed,\n",
    "    \"-b\", canonical_bed,\n",
    "    \"-wao\"\n",
    "]\n",
    "\n",
    "# Run BEDTools\n",
    "with open(output_bed, \"w\") as output:\n",
    "    subprocess.run(cmd, stdout=output)\n",
    "\n",
    "# Load the results for analysis\n",
    "df = pd.read_csv(output_bed, sep=\"\\t\", header=None)\n",
    "\n",
    "# Assign column names including the strand\n",
    "df.columns = [\n",
    "    \"probe_chr\", \"probe_start\", \"probe_end\", \"probe_info\", \"probe_strand\",\n",
    "    \"canonical_chr\", \"canonical_start\", \"canonical_end\", \"canonical_info\", \"canonical_strand\",\n",
    "    \"overlap\"\n",
    "]\n",
    "\n",
    "# Quantify coverage\n",
    "coverage_summary = df.groupby(\"probe_info\")[\"overlap\"].sum()\n",
    "\n",
    "# Display annotated probes with strand information\n",
    "print(df.head())\n",
    "print(\"\\nCoverage summary by probe:\")\n",
    "print(coverage_summary)"
   ]
  }
 ],
 "metadata": {
  "kernelspec": {
   "display_name": "Python 3 (ipykernel)",
   "language": "python",
   "name": "python3"
  },
  "language_info": {
   "codemirror_mode": {
    "name": "ipython",
    "version": 3
   },
   "file_extension": ".py",
   "mimetype": "text/x-python",
   "name": "python",
   "nbconvert_exporter": "python",
   "pygments_lexer": "ipython3",
   "version": "3.12.2"
  }
 },
 "nbformat": 4,
 "nbformat_minor": 5
}
