{
 "cells": [
  {
   "cell_type": "code",
   "execution_count": 16,
   "id": "5bafb51e-ef5e-4512-9162-41b03fa68a6e",
   "metadata": {},
   "outputs": [],
   "source": [
    "import pybedtools\n",
    "import pandas as pd\n",
    "import subprocess"
   ]
  },
  {
   "cell_type": "code",
   "execution_count": 3,
   "id": "eec116af-abc5-4903-b613-745c691206af",
   "metadata": {},
   "outputs": [],
   "source": [
    "# Load the probe file\n",
    "probe_input = \"kmers_selected_probes.csv\"\n",
    "probe_df = pd.read_csv(probe_input)"
   ]
  },
  {
   "cell_type": "code",
   "execution_count": 4,
   "id": "e065df0c-fe1c-4ac2-b494-2e70e0572419",
   "metadata": {},
   "outputs": [],
   "source": [
    "# Rearrange and rename columns to match BED format\n",
    "probe_bed_df = probe_df[[\"seqname\", \"start\", \"end\", \"gene_ID\", \"strand\"]]\n",
    "probe_bed_df.columns = [\"chrom\", \"chromstart\", \"chromend\", \"name\", \"strand\"]"
   ]
  },
  {
   "cell_type": "code",
   "execution_count": 5,
   "id": "c1aa6317-a889-439c-8de7-127a6763cad3",
   "metadata": {},
   "outputs": [],
   "source": [
    "probe_output = \"probes_DAB1.bed\"\n",
    "probe_bed_df.to_csv(probe_output, sep=\"\\t\", index=False, header=False)"
   ]
  },
  {
   "cell_type": "code",
   "execution_count": 7,
   "id": "3b9f9586-983b-4028-8fd8-4f233ca52ef6",
   "metadata": {},
   "outputs": [
    {
     "name": "stdout",
     "output_type": "stream",
     "text": [
      "  probe_chr  probe_start  probe_end probe_info probe_strand canonical_chr  \\\n",
      "0      chr1     57291007   57291127       DAB1            -          chr1   \n",
      "1      chr1     57015182   57015302       DAB1            -          chr1   \n",
      "2      chr1     57306924   57307044       DAB1            -          chr1   \n",
      "3      chr1     56997957   56998077       DAB1            -          chr1   \n",
      "4      chr1     56995847   56995967       DAB1            -          chr1   \n",
      "\n",
      "   canonical_start  canonical_end canonical_info canonical_strand  overlap  \n",
      "0         56994778       57424060           DAB1                -      120  \n",
      "1         56994778       57424060           DAB1                -      120  \n",
      "2         56994778       57424060           DAB1                -      120  \n",
      "3         56994778       57424060           DAB1                -      120  \n",
      "4         56994778       57424060           DAB1                -      120  \n",
      "\n",
      "Coverage summary by probe:\n",
      "probe_info\n",
      "DAB1    1320\n",
      "Name: overlap, dtype: int64\n"
     ]
    }
   ],
   "source": [
    "import subprocess\n",
    "import pandas as pd\n",
    "\n",
    "# Paths to your BED files\n",
    "probe_bed = \"probes_DAB1.bed\"  # Your probes file\n",
    "canonical_bed = \"canonical_transcripts_cleaned.bed\"  # File containing canonical transcript intervals\n",
    "output_bed = \"annotated_probes.bed\"  # Output file to store annotated results\n",
    "\n",
    "# BEDTools intersect command\n",
    "cmd = [\n",
    "    \"bedtools\", \"intersect\",\n",
    "    \"-a\", probe_bed,\n",
    "    \"-b\", canonical_bed,\n",
    "    \"-wao\"\n",
    "]\n",
    "\n",
    "# Run BEDTools\n",
    "with open(output_bed, \"w\") as output:\n",
    "    subprocess.run(cmd, stdout=output)\n",
    "\n",
    "# Load the results for analysis\n",
    "df = pd.read_csv(output_bed, sep=\"\\t\", header=None)\n",
    "\n",
    "# Assign column names including the strand\n",
    "df.columns = [\n",
    "    \"probe_chr\", \"probe_start\", \"probe_end\", \"probe_info\", \"probe_strand\",\n",
    "    \"canonical_chr\", \"canonical_start\", \"canonical_end\", \"canonical_info\", \"canonical_strand\",\n",
    "    \"overlap\"\n",
    "]\n",
    "\n",
    "# Quantify coverage\n",
    "coverage_summary = df.groupby(\"probe_info\")[\"overlap\"].sum()\n",
    "\n",
    "# Display annotated probes with strand information\n",
    "print(df.head())\n",
    "print(\"\\nCoverage summary by probe:\")\n",
    "print(coverage_summary)"
   ]
  },
  {
   "cell_type": "code",
   "execution_count": 5,
   "id": "3c0f6af2-81af-4c1e-9d7c-5f45a650132a",
   "metadata": {},
   "outputs": [],
   "source": [
    "#!bedtools intersect -a canonical_transcripts_cleaned.bed -b probes_DAB1.bed -wao > intersect_output.bed\n"
   ]
  },
  {
   "cell_type": "code",
   "execution_count": 2,
   "id": "cb3bb738-b5d0-4d3e-85c3-0857fd0636b9",
   "metadata": {},
   "outputs": [],
   "source": []
  },
  {
   "cell_type": "code",
   "execution_count": 8,
   "id": "3b169113-c895-400d-b98d-62a94ffce6fb",
   "metadata": {},
   "outputs": [
    {
     "name": "stdout",
     "output_type": "stream",
     "text": [
      "Channels:\n",
      " - bioconda\n",
      " - defaults\n",
      " - conda-forge\n",
      "Platform: linux-64\n",
      "Collecting package metadata (repodata.json): done\n",
      "Solving environment: done\n",
      "\n",
      "## Package Plan ##\n",
      "\n",
      "  environment location: /gpfs/commons/home/cpizzano/miniconda3\n",
      "\n",
      "  added / updated specs:\n",
      "    - gffread\n",
      "\n",
      "\n",
      "The following packages will be downloaded:\n",
      "\n",
      "    package                    |            build\n",
      "    ---------------------------|-----------------\n",
      "    certifi-2024.12.14         |  py312h06a4308_0         161 KB\n",
      "    conda-24.11.3              |  py312h06a4308_0         1.1 MB\n",
      "    gffread-0.12.7             |       hdcf5f25_4         131 KB  bioconda\n",
      "    ------------------------------------------------------------\n",
      "                                           Total:         1.4 MB\n",
      "\n",
      "The following NEW packages will be INSTALLED:\n",
      "\n",
      "  gffread            bioconda/linux-64::gffread-0.12.7-hdcf5f25_4 \n",
      "\n",
      "The following packages will be UPDATED:\n",
      "\n",
      "  conda              conda-forge::conda-24.11.2-py312h7900~ --> pkgs/main::conda-24.11.3-py312h06a4308_0 \n",
      "\n",
      "The following packages will be SUPERSEDED by a higher-priority channel:\n",
      "\n",
      "  certifi            conda-forge/noarch::certifi-2024.12.1~ --> pkgs/main/linux-64::certifi-2024.12.14-py312h06a4308_0 \n",
      "\n",
      "\n",
      "\n",
      "Downloading and Extracting Packages:\n",
      "conda-24.11.3        | 1.1 MB    |                                       |   0% \n",
      "certifi-2024.12.14   | 161 KB    |                                       |   0% \u001b[A\n",
      "\n",
      "gffread-0.12.7       | 131 KB    |                                       |   0% \u001b[A\u001b[A\n",
      "certifi-2024.12.14   | 161 KB    | ##################################### | 100% \u001b[A\n",
      "\n",
      "conda-24.11.3        | 1.1 MB    | ##################################### | 100% \u001b[A\u001b[A\n",
      "\n",
      "gffread-0.12.7       | 131 KB    | ##################################### | 100% \u001b[A\u001b[A\n",
      "\n",
      "gffread-0.12.7       | 131 KB    | ##################################### | 100% \u001b[A\u001b[A\n",
      "certifi-2024.12.14   | 161 KB    | ##################################### | 100% \u001b[A\n",
      "                                                                                \u001b[A\n",
      "                                                                                \u001b[A\n",
      "\n",
      "                                                                                \u001b[A\u001b[A\n",
      "Preparing transaction: done\n",
      "Verifying transaction: done\n",
      "Executing transaction: done\n"
     ]
    }
   ],
   "source": [
    "!conda install -c bioconda gffread -y\n"
   ]
  },
  {
   "cell_type": "code",
   "execution_count": 17,
   "id": "d9411bb8-afc3-4216-a2ad-883769dbd631",
   "metadata": {},
   "outputs": [
    {
     "name": "stdout",
     "output_type": "stream",
     "text": [
      "Exon BED file created: exons.bed\n"
     ]
    }
   ],
   "source": [
    "\n"
   ]
  },
  {
   "cell_type": "code",
   "execution_count": 18,
   "id": "3fadb282-1a94-4ea9-a7d7-0c33da7253ce",
   "metadata": {},
   "outputs": [],
   "source": [
    "\n"
   ]
  },
  {
   "cell_type": "code",
   "execution_count": 21,
   "id": "264e627b-d6a8-4596-9353-2f48241a12b2",
   "metadata": {},
   "outputs": [
    {
     "name": "stdout",
     "output_type": "stream",
     "text": [
      "Exon BED file created: DAB1_exons.bed\n"
     ]
    }
   ],
   "source": [
    "import pandas as pd\n",
    "\n",
    "# Path to your GTF file\n",
    "gtf_file = \"gencode.v47.annotation.gtf\"\n",
    "gene_of_interest = \"DAB1\"  # Replace with your gene of interest\n",
    "\n",
    "# Create an empty list to store exon data\n",
    "exons = []\n",
    "\n",
    "# Read the GTF file line by line\n",
    "with open(gtf_file, \"r\") as f:\n",
    "    for line in f:\n",
    "        # Skip comment or header lines\n",
    "        if line.startswith(\"#\"):\n",
    "            continue\n",
    "        # Split the line into tab-separated fields\n",
    "        fields = line.strip().split(\"\\t\")\n",
    "        # Check if the feature type is 'exon' and if the gene matches the one of interest\n",
    "        if fields[2] == \"exon\" and f'gene_name \"{gene_of_interest}\"' in fields[8]:\n",
    "            chrom = fields[0]  # Chromosome\n",
    "            start = int(fields[3]) - 1  # Convert to 0-based BED format (subtract 1 from start)\n",
    "            end = int(fields[4])  # End coordinate\n",
    "            info = fields[8]  # Attribute field\n",
    "            strand = fields[6]  # Strand information\n",
    "            exons.append([chrom, start, end, info, \".\", strand])  # Add to list\n",
    "\n",
    "# Check if any exons were found\n",
    "if len(exons) == 0:\n",
    "    print(f\"No exons found for gene {gene_of_interest}. Please check your GTF file.\")\n",
    "else:\n",
    "    # Convert the list to a DataFrame\n",
    "    exons_df = pd.DataFrame(exons, columns=[\"chrom\", \"start\", \"end\", \"info\", \"score\", \"strand\"])\n",
    "    \n",
    "    # Save to a BED file\n",
    "    output_bed = f\"{gene_of_interest}_exons.bed\"\n",
    "    exons_df.to_csv(output_bed, sep=\"\\t\", header=False, index=False)\n",
    "    print(f\"Exon BED file created: {output_bed}\")\n",
    "\n"
   ]
  },
  {
   "cell_type": "code",
   "execution_count": 23,
   "id": "6df56796-a125-4451-9ca6-a74c0d00cdb8",
   "metadata": {},
   "outputs": [],
   "source": [
    "!bedtools intersect -a DAB1_exons.bed -b probes_DAB1.bed -wao > intersect_output.bed\n"
   ]
  },
  {
   "cell_type": "code",
   "execution_count": 24,
   "id": "fdada0df-0d25-4fe1-9b76-99da7d162b1b",
   "metadata": {},
   "outputs": [
    {
     "name": "stdout",
     "output_type": "stream",
     "text": [
      "                                                    total_covered_bases  \\\n",
      "exon_info                                                                 \n",
      "gene_id \"ENSG00000173406.16\"; transcript_id \"EN...                   58   \n",
      "gene_id \"ENSG00000173406.16\"; transcript_id \"EN...                    0   \n",
      "gene_id \"ENSG00000173406.16\"; transcript_id \"EN...                    0   \n",
      "gene_id \"ENSG00000173406.16\"; transcript_id \"EN...                    0   \n",
      "gene_id \"ENSG00000173406.16\"; transcript_id \"EN...                   24   \n",
      "...                                                                 ...   \n",
      "gene_id \"ENSG00000173406.16\"; transcript_id \"EN...                  120   \n",
      "gene_id \"ENSG00000173406.16\"; transcript_id \"EN...                    0   \n",
      "gene_id \"ENSG00000173406.16\"; transcript_id \"EN...                    0   \n",
      "gene_id \"ENSG00000173406.16\"; transcript_id \"EN...                    0   \n",
      "gene_id \"ENSG00000173406.16\"; transcript_id \"EN...                  120   \n",
      "\n",
      "                                                    exon_length  \\\n",
      "exon_info                                                         \n",
      "gene_id \"ENSG00000173406.16\"; transcript_id \"EN...          102   \n",
      "gene_id \"ENSG00000173406.16\"; transcript_id \"EN...          140   \n",
      "gene_id \"ENSG00000173406.16\"; transcript_id \"EN...           99   \n",
      "gene_id \"ENSG00000173406.16\"; transcript_id \"EN...          132   \n",
      "gene_id \"ENSG00000173406.16\"; transcript_id \"EN...          120   \n",
      "...                                                         ...   \n",
      "gene_id \"ENSG00000173406.16\"; transcript_id \"EN...          203   \n",
      "gene_id \"ENSG00000173406.16\"; transcript_id \"EN...          140   \n",
      "gene_id \"ENSG00000173406.16\"; transcript_id \"EN...           41   \n",
      "gene_id \"ENSG00000173406.16\"; transcript_id \"EN...          132   \n",
      "gene_id \"ENSG00000173406.16\"; transcript_id \"EN...          464   \n",
      "\n",
      "                                                    coverage_fraction  \n",
      "exon_info                                                              \n",
      "gene_id \"ENSG00000173406.16\"; transcript_id \"EN...           0.568627  \n",
      "gene_id \"ENSG00000173406.16\"; transcript_id \"EN...           0.000000  \n",
      "gene_id \"ENSG00000173406.16\"; transcript_id \"EN...           0.000000  \n",
      "gene_id \"ENSG00000173406.16\"; transcript_id \"EN...           0.000000  \n",
      "gene_id \"ENSG00000173406.16\"; transcript_id \"EN...           0.200000  \n",
      "...                                                               ...  \n",
      "gene_id \"ENSG00000173406.16\"; transcript_id \"EN...           0.591133  \n",
      "gene_id \"ENSG00000173406.16\"; transcript_id \"EN...           0.000000  \n",
      "gene_id \"ENSG00000173406.16\"; transcript_id \"EN...           0.000000  \n",
      "gene_id \"ENSG00000173406.16\"; transcript_id \"EN...           0.000000  \n",
      "gene_id \"ENSG00000173406.16\"; transcript_id \"EN...           0.258621  \n",
      "\n",
      "[109 rows x 3 columns]\n"
     ]
    }
   ],
   "source": [
    "import pandas as pd\n",
    "\n",
    "# Load the intersect output\n",
    "intersect_df = pd.read_csv(\"intersect_output.bed\", sep=\"\\t\", header=None)\n",
    "intersect_df.columns = [\n",
    "    \"exon_chr\", \"exon_start\", \"exon_end\", \"exon_info\", \"exon_score\", \"exon_strand\",\n",
    "    \"probe_chr\", \"probe_start\", \"probe_end\", \"probe_info\", \"probe_score\", \"overlap\"\n",
    "]\n",
    "\n",
    "# Calculate exon lengths\n",
    "intersect_df[\"exon_length\"] = intersect_df[\"exon_end\"] - intersect_df[\"exon_start\"]\n",
    "\n",
    "# Sum overlap by exon\n",
    "exon_coverage = intersect_df.groupby(\"exon_info\")[\"overlap\"].sum()\n",
    "\n",
    "# Merge with exon lengths\n",
    "exon_summary = pd.DataFrame({\n",
    "    \"total_covered_bases\": exon_coverage,\n",
    "    \"exon_length\": intersect_df.groupby(\"exon_info\")[\"exon_length\"].first()\n",
    "})\n",
    "exon_summary[\"coverage_fraction\"] = exon_summary[\"total_covered_bases\"] / exon_summary[\"exon_length\"]\n",
    "\n",
    "print(exon_summary)\n"
   ]
  },
  {
   "cell_type": "code",
   "execution_count": 25,
   "id": "e358ff2b-9f6c-4dfd-bbe8-1dbdabab6e38",
   "metadata": {},
   "outputs": [],
   "source": [
    "!bedtools subtract -a DAB1_exons.bed -b probes_DAB1.bed > uncovered_exons.bed\n"
   ]
  },
  {
   "cell_type": "code",
   "execution_count": 26,
   "id": "0202025f-7a04-41b0-b908-95df7696e19f",
   "metadata": {},
   "outputs": [
    {
     "name": "stdout",
     "output_type": "stream",
     "text": [
      "    chrom     start       end  \\\n",
      "0    chr1  57423929  57424060   \n",
      "1    chr1  57290963  57291007   \n",
      "2    chr1  57291127  57291166   \n",
      "3    chr1  57145289  57145429   \n",
      "4    chr1  57136542  57136641   \n",
      "..    ...       ...       ...   \n",
      "137  chr1  57290963  57291007   \n",
      "138  chr1  57291127  57291166   \n",
      "139  chr1  57145416  57145429   \n",
      "140  chr1  57883998  57884016   \n",
      "141  chr1  57826070  57826455   \n",
      "\n",
      "                                                  info score strand  \n",
      "0    gene_id \"ENSG00000173406.16\"; transcript_id \"E...     .      -  \n",
      "1    gene_id \"ENSG00000173406.16\"; transcript_id \"E...     .      -  \n",
      "2    gene_id \"ENSG00000173406.16\"; transcript_id \"E...     .      -  \n",
      "3    gene_id \"ENSG00000173406.16\"; transcript_id \"E...     .      -  \n",
      "4    gene_id \"ENSG00000173406.16\"; transcript_id \"E...     .      -  \n",
      "..                                                 ...   ...    ...  \n",
      "137  gene_id \"ENSG00000173406.16\"; transcript_id \"E...     .      -  \n",
      "138  gene_id \"ENSG00000173406.16\"; transcript_id \"E...     .      -  \n",
      "139  gene_id \"ENSG00000173406.16\"; transcript_id \"E...     .      -  \n",
      "140  gene_id \"ENSG00000173406.16\"; transcript_id \"E...     .      -  \n",
      "141  gene_id \"ENSG00000173406.16\"; transcript_id \"E...     .      -  \n",
      "\n",
      "[142 rows x 6 columns]\n"
     ]
    }
   ],
   "source": [
    "uncovered_df = pd.read_csv(\"uncovered_exons.bed\", sep=\"\\t\", header=None)\n",
    "uncovered_df.columns = [\"chrom\", \"start\", \"end\", \"info\", \"score\", \"strand\"]\n",
    "print(uncovered_df)\n"
   ]
  },
  {
   "cell_type": "code",
   "execution_count": null,
   "id": "259a4801-a42e-4442-8c14-37030dab24e7",
   "metadata": {},
   "outputs": [],
   "source": []
  }
 ],
 "metadata": {
  "kernelspec": {
   "display_name": "Python 3 (ipykernel)",
   "language": "python",
   "name": "python3"
  },
  "language_info": {
   "codemirror_mode": {
    "name": "ipython",
    "version": 3
   },
   "file_extension": ".py",
   "mimetype": "text/x-python",
   "name": "python",
   "nbconvert_exporter": "python",
   "pygments_lexer": "ipython3",
   "version": "3.12.2"
  }
 },
 "nbformat": 4,
 "nbformat_minor": 5
}
